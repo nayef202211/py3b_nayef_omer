{
 "cells": [
  {
   "cell_type": "markdown",
   "id": "f378843e",
   "metadata": {},
   "source": [
    "# Assignment 1"
   ]
  },
  {
   "cell_type": "markdown",
   "id": "de6bf425",
   "metadata": {},
   "source": [
    "## Part 1 - Setting up the working environment\n",
    "\n",
    "In this Assignment you will be creating the foundations for the coming weeks, which includes setting up a Github repository and exploring some data\n",
    "\n",
    "### 1. Setup\n",
    "\n",
    "Make sure you have a working installation of Anaconda, Jupyter Notebook and Github\n",
    "\n",
    "### 2. Creating your Notebook and connecting it to Github\n",
    "\n",
    "- Create a github repository for the course, name the repo Py3b_firstname_lastname where you change firstname and lastname to your name.\n",
    "\n",
    "- Clone the repository to your computer somewhere inside the working directory of Jupyter Notebook.\n",
    "\n",
    "- Inside the repository you just cloned create five folders, one for each week. Name them week1, week2, week3 .. week5.\n",
    "\n",
    "- Move this notebook to week 1 before moving on.\n",
    "\n",
    "- Add the teacher/s as collaboratorers on your project.\n",
    "\n",
    "- For assignment 1 submit a link to your github repo and hand it in. You only need to add the link to your repo, do NOT add the entire folder.\n",
    "\n",
    "- After completing part 2 of this assignment, push the changes you have made to the Py3b_firstname_lastname folder to github, updating the repository."
   ]
  },
  {
   "cell_type": "markdown",
   "id": "3d4ff2e5",
   "metadata": {},
   "source": [
    "## Part 2 - Exploring Iris dataset\n",
    "\n",
    "The Iris dataset is a classic dataset used in machine learning and statistics. It is a multivariate dataset that contains measurements of the sepal length, sepal width, petal length, and petal width of three different species of iris flowers: Iris setosa, Iris versicolor, and Iris virginica. The dataset is commonly used to study and develop classification algorithms, as the goal is to accurately predict the species of iris flower based on the four features. The Iris dataset is also widely used in data visualization and exploratory data analysis due to its simple and well-defined structure.\n",
    "\n",
    "The dataset includes three iris species with 50 samples each as well as some properties about each flower. One flower species is linearly separable from the other two, but the other two are not linearly separable from each other.\n",
    "\n",
    "The columns in this dataset are: Id, SepalLengthCm, SepalWidthCm, PetalLengthCm, PetalWidthCm, Species\n",
    "\n",
    "The Iris Species dataset can be [found here](https://www.kaggle.com/datasets/uciml/iris)\n",
    "\n",
    "In this assignment you will explore the data in this dataset to familiarize yourself with it before moving on to training a Machine Learning model on it."
   ]
  },
  {
   "cell_type": "markdown",
   "id": "c841b5ed",
   "metadata": {},
   "source": [
    "### 1. Import necessary libraries & setup\n",
    "\n",
    "First off we need to import the Pandas and Matplotlib libraries and set the default figure size for Matplotlib plots.\n",
    "\n",
    "The first two lines below will import the Pandas and Matplotlib libraries into the environment.\n",
    "\n",
    "The third line uses the 'rcParams' attribute of the 'plt' object to set the default figure size for Matplotlib plots. The 'rcParams' attribute is a dictionary-like object that contains default settings for various Matplotlib parameters. In this case, we set the 'figure.figsize' parameter to [7, 5], which means that the default figure size for Matplotlib plots will be 7 inches wide and 5 inches tall.\n",
    "\n",
    "By setting the default figure size, we can ensure that all plots created using Matplotlib in the current session will have the same size and aspect ratio, making it easier to compare and interpret the results."
   ]
  },
  {
   "cell_type": "markdown",
   "id": "ffc66ac3",
   "metadata": {},
   "source": [
    "### 2. Read and explore data\n",
    "\n",
    "You can load the dataset to a DataFrame to be processed or explored by downloading the CSV file to the same directory as this notebook and using <code>df = pd.read_csv('name_of_your_file.csv')</code>.\n",
    "\n",
    "<code>df.head()</code> is a method used to view the first n rows of a DataFrame. By default, the method displays the first five rows of the DataFrame. However, the user can pass a number n as an argument to the method to view the first n rows of the DataFrame. <code>df.head(10)</code> would display the first ten rows of the DataFrame.\n",
    "\n",
    "The method is useful for quickly inspecting the data and getting a sense of its structure, column names, and data types. It is often used as a first step in exploratory data analysis to understand what data the DataFrame contains and how it is structured.\n",
    "\n",
    "Explore the data in the dataset by loading it with <code>df = pd.read_csv(...)</code> and then using <code>df.head()</code> and at least three of the following methods:\n",
    "\n",
    "<ul>\n",
    "    <li><code>df.info()</code> - provides a summary of the DataFrame, including the number of non-null values, data types, and memory usage.</li>\n",
    "    <li><code>df.describe()</code> - generates descriptive statistics of the DataFrame, such as count, mean, standard deviation, minimum, maximum, and quartiles.</li>\n",
    "    <li><code>df.shape</code> - returns a tuple of the number of rows and columns in the DataFrame.</li>\n",
    "    <li><code>df.columns</code> - returns a list of the column names in the DataFrame.</li>\n",
    "    <li><code>df.dtypes</code> - returns a Series with the data type of each column.</li>\n",
    "    <li><code>df.isnull().sum()</code> - returns the number of missing values in each column of the DataFrame.</li>\n",
    "    <li><code>df.nunique()</code> - returns the number of unique values in each column of the DataFrame.</li>\n",
    "    <li><code>df.value_counts()</code> - returns a Series containing the counts of unique values in each column of the DataFrame.</li>\n",
    "    <li><code>df.sample()</code> - returns a random sample of rows from the DataFrame.</li>\n",
    "    <li><code>df.corr()</code> - computes the pairwise correlation of columns in the DataFrame.</li>\n",
    "</ul>"
   ]
  },
  {
   "cell_type": "code",
   "execution_count": null,
   "id": "4980ef82",
   "metadata": {},
   "outputs": [],
   "source": [
    "# Enter your code here\n",
    "# Importing necessary libraries\n",
    "import pandas as pd\n",
    "\n",
    "# Load the dataset\n",
    "df = pd.read_csv(r\"D:\\arbets kurs\\as6-iris-data.csv\")\n",
    "\n",
    "# Display the first 5 rows of the DataFrame\n",
    "print(\"First 5 rows of the DataFrame:\")\n",
    "print(df.head())\n",
    "\n",
    "# Explore the data using different methods\n",
    "\n",
    "# 1. Get a summary of the DataFrame\n",
    "print(\"\\nDataFrame Info:\")\n",
    "print(df.info())\n",
    "\n",
    "# 2. Generate descriptive statistics\n",
    "print(\"\\nDescriptive Statistics:\")\n",
    "print(df.describe())\n",
    "\n",
    "# 3. Check for missing values\n",
    "print(\"\\nMissing Values in Each Column:\")\n",
    "print(df.isnull().sum())\n",
    "\n",
    "# 4. Check the shape of the DataFrame\n",
    "print(\"\\nShape of the DataFrame:\")\n",
    "print(df.shape)\n",
    "\n",
    "# 5. Display column names\n",
    "print(\"\\nColumn Names:\")\n",
    "print(df.columns)\n",
    "\n",
    "# 6. Check the data types of each column\n",
    "print(\"\\nData Types of Each Column:\")\n",
    "print(df.dtypes)\n",
    "\n",
    "# 7. Check the number of unique values in each column\n",
    "print(\"\\nUnique Values in Each Column:\")\n",
    "print(df.nunique())\n",
    "\n",
    "# 8. Display the pairwise correlation of columns\n",
    "print(\"\\nCorrelation Matrix:\")\n",
    "print(df.corr())\n",
    "\n",
    "# 9. Get a random sample of rows from the DataFrame\n",
    "print(\"\\nRandom Sample of Rows:\")\n",
    "print(df.sample(5))\n"
   ]
  },
  {
   "cell_type": "markdown",
   "id": "25c9c28d",
   "metadata": {},
   "source": [
    "### 3. Plotting the data\n",
    "\n",
    "1. Define a dictionary called `species_dict` that maps the three species in the \"Species\" column to numerical values. The key-value pairs in the dictionary should be as follows: \n",
    "\n",
    "```python\n",
    "'Iris-setosa': 0\n",
    "'Iris-versicolor': 1\n",
    "'Iris-virginica': 2\n",
    "```\n",
    "\n",
    "2. Use the map() method of the Pandas DataFrame to create a new column called \"SpeciesNum\" that contains the numerical values for the \"Species\" column. The mapping should be done using the class_dict dictionary created in step 2. The code for this step should be as follows:\n",
    "\n",
    "```python\n",
    "df['SpeciesNum'] = df['Species'].map(species_dict)\n",
    "```\n",
    "\n",
    "3. Create a scatter plot of the data using the plot() method of the Pandas DataFrame. Set the kind parameter to 'scatter', the x parameter to 'SepalLengthCm', the y parameter to 'SepalWidthCm', the c parameter to 'SpeciesNum', and the cmap parameter to 'viridis'. \n",
    "\n",
    "If you have plotted your data correctly the result should look something like this:"
   ]
  },
  {
   "attachments": {
    "image-2.png": {
     "image/png": "[encoded data removed]"
    }
   },
   "cell_type": "markdown",
   "id": "e7ce48d2",
   "metadata": {},
   "source": [
    "![image-2.png](attachment:image-2.png)"
   ]
  },
  {
   "cell_type": "code",
   "execution_count": null,
   "id": "99eb0a59",
   "metadata": {},
   "outputs": [],
   "source": [
    "# Enter your code here\n",
    "import pandas as pd\n",
    "import matplotlib.pyplot as plt\n",
    "\n",
    "# Load the dataset\n",
    "df = pd.read_csv('D:\\\\arbets kurs\\\\as6-iris-data.csv')  # Make sure to adjust the path\n",
    "\n",
    "# Step 1: Define the species dictionary\n",
    "species_dict = {\n",
    "    'Iris-setosa': 0,\n",
    "    'Iris-versicolor': 1,\n",
    "    'Iris-virginica': 2\n",
    "}\n",
    "\n",
    "# Step 2: Map species to numerical values\n",
    "df['SpeciesNum'] = df['Species'].map(species_dict)\n",
    "\n",
    "# Step 3: Create a scatter plot\n",
    "df.plot(kind='scatter', x='SepalLengthCm', y='SepalWidthCm', c='SpeciesNum', cmap='viridis')\n",
    "plt.title('Sepal Length vs Sepal Width')\n",
    "plt.xlabel('Sepal Length (cm)')\n",
    "plt.ylabel('Sepal Width (cm)')\n",
    "plt.colorbar(label='Species Number')\n",
    "plt.grid()\n",
    "plt.show()\n"
   ]
  },
  {
   "cell_type": "markdown",
   "id": "5d1ce3b2",
   "metadata": {},
   "source": [
    "## Complete!\n",
    "\n",
    "If your plot looks like the one above you're done!\n",
    "\n",
    "Submit your work by pushing the changes to Github, inviting the teacher/s to your repository and submitting the link under the assignment."
   ]
  }
 ],
 "metadata": {
  "kernelspec": {
   "display_name": "Python 3 (ipykernel)",
   "language": "python",
   "name": "python3"
  },
  "language_info": {
   "codemirror_mode": {
    "name": "ipython",
    "version": 3
   },
   "file_extension": ".py",
   "mimetype": "text/x-python",
   "name": "python",
   "nbconvert_exporter": "python",
   "pygments_lexer": "ipython3",
   "version": "3.12.4"
  }
 },
 "nbformat": 4,
 "nbformat_minor": 5
}
