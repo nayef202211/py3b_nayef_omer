{
 "cells": [
  {
   "cell_type": "markdown",
   "id": "34ea0e97",
   "metadata": {},
   "source": [
    "# Assignment 3\n",
    "\n",
    "Welcome to your machine learning assignment! In this assignment, you will dive deeper into the exciting world of classification tasks using a linear regression model classifier. We will be using Python and the scikit-learn library to perform these tasks.\n",
    "\n",
    "In this assignment I will use a *House Prices dataset*, split it into training and testing sets, create a linear regression model, train the model on the training set, make predictions on the testing set, and then evaluate the performance of the model using metrics such as Mean Absolute Error (MAE), Mean Squared Error (MSE), Root Mean Squared Error (RMSE). \n",
    "\n",
    "After that, you will try to do the same thing with a database of used sold cars and train a model to make predictions of the cars prices.\n",
    "\n",
    "The House Prices dataset can be [found here](https://www.kaggle.com/competitions/house-prices-advanced-regression-techniques/data)\n"
   ]
  },
  {
   "cell_type": "markdown",
   "id": "3d4ff2e5",
   "metadata": {},
   "source": [
    "## Part 1 - How it's done\n",
    "\n",
    "In this part I will demonstrate how to train a model on existing data by loading the dataset, splitting it into training and testing sets, create a classifier, train the model on the training set, make predictions on the testing set, and then evaluate the performance of the model using metrics such as Mean Absolute Error (MAE), Mean Squared Error (MSE), Root Mean Squared Error (RMSE)."
   ]
  },
  {
   "cell_type": "markdown",
   "id": "f2b900ca",
   "metadata": {},
   "source": [
    "### 1. Import the required libraries\n",
    "\n",
    "First, I import the necessary libraries and modules that will be used in the code:\n",
    "\n",
    "- `LinearRegression` from `sklearn.linear_model` for implementing the linear regression model.\n",
    "- `mean_absolute_error` and `mean_squared_error` from `sklearn.metrics` for calculating the evaluation metrics.\n",
    "- `sqrt` from `math` to compute the square root.\n",
    "- `pandas` as pd for working with data in a tabular format.\n",
    "- `train_test_split` from `sklearn.model_selection` for splitting the dataset into training and testing sets.\n",
    "- `OneHotEncoder` from `sklearn.preprocessing` for handling other data types in our dataset, such as Neighborhood\n",
    "- `pyplot` from `matplotlib` to visualize the data and the results"
   ]
  },
  {
   "cell_type": "code",
   "execution_count": null,
   "id": "72d93909",
   "metadata": {
    "scrolled": true
   },
   "outputs": [],
   "source": [
    "# Import required libraries\n",
    "from sklearn.linear_model import LinearRegression\n",
    "from sklearn.metrics import mean_absolute_error, mean_squared_error\n",
    "from math import sqrt\n",
    "import pandas as pd\n",
    "from sklearn.model_selection import train_test_split\n",
    "from sklearn.preprocessing import OneHotEncoder, LabelEncoder\n",
    "import matplotlib.pyplot as plt\n",
    "import numpy as np"
   ]
  },
  {
   "cell_type": "markdown",
   "id": "9761d7d0",
   "metadata": {},
   "source": [
    "### 2. Load and prepare the dataset\n",
    "\n",
    "To preprocess the dataset, I perform the following steps:\n",
    "\n",
    "- I specify a list of relevant features that will be used for the analysis. These features include, among others, 'OverallQual', 'GrLivArea', 'GarageCars', 'TotalBsmtSF', 'FullBath', and 'YearBuilt'.\n",
    "- I select only the rows that have non-null values for the specified features and the target variable 'SalePrice'. This is done using the `dropna` function, which removes rows with missing values from the DataFrame. The resulting DataFrame will contain only the selected features and the target variable.\n",
    "- After preprocessing, I split the dataset into features (`X`) and the target variable (`y`) for further analysis. The features are extracted from the DataFrame df by selecting the columns specified in the features list. The target variable 'SalePrice' is extracted separately and assigned to the variable y.\n",
    "\n",
    "By performing these steps, the code loads the dataset, preprocesses it by selecting relevant features and removing rows with missing values, and then splits it into features (X) and the target variable (y) for further analysis or modeling tasks.\n",
    "\n",
    "#### Select features\n",
    "\n",
    "To determine which features are relevant to include in the model training data, we need to consider the nature of the problem and the information provided in the dataset. It is important to select features that have a potential impact on the target variable (SalePrice) and can contribute to the prediction of house prices.\n",
    "\n",
    "- OverallQual: Overall material and finish quality of the house\n",
    "- GrLivArea: Above ground living area in square feet\n",
    "- GarageCars: Size of garage in car capacity\n",
    "- TotalBsmtSF: Total basement area in square feet\n",
    "- FullBath: Number of full bathrooms\n",
    "- YearBuilt: Original construction year of the house\n",
    "- LotArea: Total lot size in square feet\n",
    "- Neighborhood: Descriptive location within the city or area\n",
    "- YearRemodAdd: Remodeling date (same as construction date if no remodeling or additions)\n",
    "- GarageArea: Size of garage in square feet\n",
    "- OverallCond: Overall condition rating of the house\n",
    "\n",
    "These features represent different aspects of the house that could influence its sale price, such as overall quality, size, amenities, and age.\n",
    "\n",
    "To find and select features, use the different functions for exploration that we have used previously, such as `df.head()`, `df.info()`, and `df.describe()`. You can also find information about the features (columns) in the dataset by visiting the source, in this case Kaggle.com.\n"
   ]
  },
  {
   "cell_type": "code",
   "execution_count": null,
   "id": "f779cdaf",
   "metadata": {},
   "outputs": [],
   "source": [
    "# Load the dataset\n",
    "df = pd.read_csv('A3_house_prices_train.csv')\n",
    "\n",
    "# Print available features (columns) and their data type\n",
    "df.info()"
   ]
  },
  {
   "cell_type": "code",
   "execution_count": null,
   "id": "02abb523",
   "metadata": {},
   "outputs": [],
   "source": [
    "df.head()"
   ]
  },
  {
   "cell_type": "code",
   "execution_count": null,
   "id": "163fe967",
   "metadata": {},
   "outputs": [],
   "source": [
    "# Preprocess the dataset\n",
    "# Select relevant features\n",
    "features = [\n",
    "    'OverallQual', 'GrLivArea', 'GarageCars', 'TotalBsmtSF', 'FullBath', 'YearBuilt', \n",
    "    'LotArea', 'YearRemodAdd', 'GarageArea', 'OverallCond', 'Neighborhood'\n",
    "]\n",
    "\n",
    "# Remove rows with missing values\n",
    "df = df[features + ['SalePrice']].dropna()\n",
    "\n",
    "df.describe()"
   ]
  },
  {
   "cell_type": "code",
   "execution_count": null,
   "id": "1ab16519",
   "metadata": {},
   "outputs": [],
   "source": [
    "df[\"Neighborhood\"].value_counts()\n",
    "# df.info()\n",
    "# df.head()"
   ]
  },
  {
   "cell_type": "markdown",
   "id": "1e590590",
   "metadata": {},
   "source": [
    "### 3. Working with other data types\n",
    "\n",
    "To train the model on data like Neighborhood, which is a string instead of a number (float or int), we have to encode it using OneHotEncoder. Take a look at the columns by calling `df.info()` and `df.head()`, each 'Neighborhood'  value now has its own column, which is great for training the model."
   ]
  },
  {
   "cell_type": "code",
   "execution_count": null,
   "id": "a666e3c3",
   "metadata": {},
   "outputs": [],
   "source": [
    "# Create an instance of OneHotEncoder\n",
    "encoder = OneHotEncoder()\n",
    "\n",
    "# Extract the \"Neighborhood\" column from the DataFrame\n",
    "neighborhood_data = df[['Neighborhood']]\n",
    "\n",
    "# Apply OneHotEncoder to the \"Neighborhood\" column\n",
    "neighborhood_encoded = encoder.fit_transform(neighborhood_data)\n",
    "\n",
    "# Convert to a dense array\n",
    "neighborhood_encoded_dense = neighborhood_encoded.toarray()\n",
    "\n",
    "# Create a DataFrame with the encoded neighborhood data\n",
    "neighborhood_encoded_df = pd.DataFrame(neighborhood_encoded_dense, columns=encoder.get_feature_names_out(['Neighborhood']))\n",
    "\n",
    "# Concatenate the encoded neighborhood DataFrame with the original DataFrame\n",
    "df_encoded = pd.concat([df, neighborhood_encoded_df], axis=1)\n",
    "\n",
    "# Drop the original \"Neighborhood\" column from the DataFrame\n",
    "df_encoded.drop('Neighborhood', axis=1, inplace=True)\n",
    "\n",
    "# Save encoded data to the DataFrame \n",
    "df = df_encoded\n",
    "\n",
    "# Let's see the results\n",
    "df.info()"
   ]
  },
  {
   "cell_type": "code",
   "execution_count": null,
   "id": "5500484c",
   "metadata": {},
   "outputs": [],
   "source": [
    "df.head()"
   ]
  },
  {
   "cell_type": "markdown",
   "id": "fad4770a",
   "metadata": {},
   "source": [
    "### 4. Split data into training and testing sets\n",
    "\n",
    "Now I am ready to split the dataset into training and test data by using the train_test_split function. This function divides the data into training and testing sets based on a specified ratio. The training set will be used to train the model, while the testing set will be used to evaluate its performance."
   ]
  },
  {
   "cell_type": "code",
   "execution_count": null,
   "id": "a126d557",
   "metadata": {},
   "outputs": [],
   "source": [
    "# Split the dataset into features (X) and target variable (y)\n",
    "X = df.drop('SalePrice', axis=1)  # Exclude the 'SalePrice' column from features\n",
    "y = df['SalePrice']"
   ]
  },
  {
   "cell_type": "code",
   "execution_count": null,
   "id": "ed84e8bf",
   "metadata": {},
   "outputs": [],
   "source": [
    "X"
   ]
  },
  {
   "cell_type": "code",
   "execution_count": null,
   "id": "074e4e87",
   "metadata": {},
   "outputs": [],
   "source": [
    "y"
   ]
  },
  {
   "cell_type": "code",
   "execution_count": null,
   "id": "c3d13a1f",
   "metadata": {},
   "outputs": [],
   "source": [
    "# Split dataset into training and testing sets\n",
    "X_train, X_test, y_train, y_test = train_test_split(X, y, test_size=0.2, random_state=12)\n",
    "\n",
    "# X_train and y_train is used to train our model\n",
    "# X_test and y_test is used to test and evaluate our model"
   ]
  },
  {
   "cell_type": "markdown",
   "id": "15d1ceae",
   "metadata": {},
   "source": [
    "### 5. Create an instance of the LinearRegression class and fit the model to the training data\n",
    "\n",
    "After splitting the dataset, I instantiate an instance of the LinearRegression class, which represents the linear regression model.\n",
    "\n",
    "Then, I fit the model to the training data using the `fit` method. This step trains the model by finding the best-fitting line that minimizes the difference between the predicted values and the actual target values."
   ]
  },
  {
   "cell_type": "code",
   "execution_count": null,
   "id": "aa6e42fd",
   "metadata": {},
   "outputs": [],
   "source": [
    "# Create linear regression model\n",
    "regressor = LinearRegression()\n",
    "\n",
    "# Fit the model to the training data\n",
    "regressor.fit(X_train, y_train)"
   ]
  },
  {
   "cell_type": "markdown",
   "id": "88c0e161",
   "metadata": {},
   "source": [
    "### 6. Make predictions on the testing set\n",
    "\n",
    "Now that the model is trained, I can make predictions on the testing set using the predict method. This step allows me to obtain the predicted values for the target variable based on the features in the testing set."
   ]
  },
  {
   "cell_type": "code",
   "execution_count": null,
   "id": "d91d7023",
   "metadata": {},
   "outputs": [],
   "source": [
    "# Make predictions on the testing set\n",
    "y_pred = regressor.predict(X_test)\n",
    "\n",
    "y_pred.shape"
   ]
  },
  {
   "cell_type": "code",
   "execution_count": null,
   "id": "56fc22dd",
   "metadata": {},
   "outputs": [],
   "source": [
    "y_pred\n",
    "y_test"
   ]
  },
  {
   "cell_type": "markdown",
   "id": "8f06d5c2",
   "metadata": {},
   "source": [
    "### 7. Evaluate the performance of the model using MAE, MSE, and RMSE\n",
    "\n",
    "To evaluate the performance of the model, I calculate two commonly used metrics: mean absolute error (MAE) and mean squared error (MSE). These metrics measure the average absolute difference and the average squared difference, respectively, between the predicted and actual values. I import these metrics from sklearn.metrics and calculate them using the predicted values and the actual values from the testing set.\n",
    "\n",
    "Finally, I may also calculate the root mean squared error (RMSE) by taking the square root of the mean squared error. This metric provides a measure of the average magnitude of the prediction errors in the same units as the target variable."
   ]
  },
  {
   "cell_type": "code",
   "execution_count": null,
   "id": "a5e7beb3",
   "metadata": {},
   "outputs": [],
   "source": [
    "# Calculate evaluation metrics\n",
    "mae = mean_absolute_error(y_test, y_pred)\n",
    "mse = mean_squared_error(y_test, y_pred)\n",
    "rmse = sqrt(mse)\n",
    "\n",
    "# Print the metrics\n",
    "print(\"Mean Absolute Error (MAE):\", mae)\n",
    "print(\"Mean Squared Error (MSE):\", mse)\n",
    "print(\"Root Mean Squared Error (RMSE):\", rmse)"
   ]
  },
  {
   "cell_type": "markdown",
   "id": "f21c825a",
   "metadata": {},
   "source": [
    "### 8. Analyzing the results\n",
    "\n",
    "#### Mean Absolute Error (MAE):\n",
    "\n",
    "MAE measures the average absolute difference between the predicted and actual values.\n",
    "In this case, the MAE is approximately 19 927.\n",
    "It indicates that, on average, the model's predictions have an absolute difference of around 19 927 units (dollars) from the actual values.\n",
    "A lower MAE value suggests better accuracy, as it represents smaller prediction errors.\n",
    "\n",
    "#### Mean Squared Error (MSE):\n",
    "\n",
    "MSE calculates the average of the squared differences between the predicted and actual values.\n",
    "The MSE value is approximately 1 182 480 620\n",
    "It quantifies the average squared deviation of the model's predictions from the actual values.\n",
    "A lower MSE indicates a better fit, as it represents smaller overall prediction errors.\n",
    "\n",
    "#### Root Mean Squared Error (RMSE):\n",
    "\n",
    "RMSE is the square root of MSE and provides a measure of the average magnitude of the prediction errors.\n",
    "The RMSE value is approximately 34387.\n",
    "It represents the average difference between the predicted and actual values, in the same units as the target variable (dollars).\n",
    "Similar to MAE and MSE, a lower RMSE value indicates better accuracy and a smaller average prediction error."
   ]
  },
  {
   "cell_type": "markdown",
   "id": "937ec85b",
   "metadata": {},
   "source": [
    "### 9. Visualizing the results\n",
    "\n",
    "To get a better understanding of how our model performed, we can plot the data using these plots"
   ]
  },
  {
   "cell_type": "markdown",
   "id": "da3383d7",
   "metadata": {},
   "source": [
    "#### Scatter Plot: \n",
    "\n",
    "From a scatter plot, we can observe the relationship between two variables. If the data points form a clear pattern or follow a linear trend, it indicates a strong correlation between the variables. Additionally, we can identify any outliers or clusters in the data."
   ]
  },
  {
   "cell_type": "code",
   "execution_count": null,
   "id": "5f2f1139",
   "metadata": {},
   "outputs": [],
   "source": [
    "# Plotting the sale price\n",
    "plt.scatter(range(len(y_test)), y_test, color='blue', label='Actual Sale Price')\n",
    "# Plotting the predictions\n",
    "plt.scatter(range(len(y_pred)), y_pred, color='red', label='Predicted Sale Price')\n",
    "\n",
    "plt.title('Actual Sale Price vs Predicted Sale Price')\n",
    "plt.xlabel('Sample Index')\n",
    "plt.ylabel('Sale Price')\n",
    "plt.legend()\n",
    "plt.show()"
   ]
  },
  {
   "cell_type": "markdown",
   "id": "d7270972",
   "metadata": {},
   "source": [
    "#### Line Plot: \n",
    "\n",
    "A line plot helps us visualize the trend or progression of a variable over time or data points. We can observe whether the variable increases, decreases, or remains relatively constant. It allows us to identify patterns, seasonality, or trends in the data."
   ]
  },
  {
   "cell_type": "code",
   "execution_count": null,
   "id": "425d0d01",
   "metadata": {},
   "outputs": [],
   "source": [
    "plt.plot(range(len(y_test)), y_test, label='Actual Sale Prices')\n",
    "plt.plot(range(len(y_test)), y_pred, label='Predicted Sale Prices')\n",
    "plt.xlabel('Data Point')\n",
    "plt.ylabel('Sale Price')\n",
    "plt.title('Actual vs Predicted Sale Prices')\n",
    "plt.legend()\n",
    "plt.show()"
   ]
  },
  {
   "cell_type": "markdown",
   "id": "7b7d0cc3",
   "metadata": {},
   "source": [
    "#### Histogram: \n",
    "\n",
    "By examining a histogram, we can determine the distribution of a single variable. It provides insights into the data's central tendency, spread, and shape. We can identify whether the data is normally distributed, skewed, or exhibits multiple peaks. Outliers or unusual patterns can also be detected."
   ]
  },
  {
   "cell_type": "code",
   "execution_count": null,
   "id": "8d389a77",
   "metadata": {},
   "outputs": [],
   "source": [
    "plt.hist(y_test, bins=30, alpha=0.5, label='Actual Sale Prices')\n",
    "plt.hist(y_pred, bins=30, alpha=0.5, label='Predicted Sale Prices')\n",
    "plt.xlabel('Sale Price')\n",
    "plt.ylabel('Frequency')\n",
    "plt.title('Distribution of Actual and Predicted Sale Prices')\n",
    "plt.legend()\n",
    "plt.show()"
   ]
  },
  {
   "cell_type": "markdown",
   "id": "1ea4a25e",
   "metadata": {},
   "source": [
    "#### Box Plot: \n",
    "\n",
    "A box plot summarizes the distribution of a variable and highlights important summary statistics. It allows us to identify the median, quartiles, and potential outliers. We can assess the spread of the data, skewness, and any extreme values that fall beyond the whiskers."
   ]
  },
  {
   "cell_type": "code",
   "execution_count": null,
   "id": "14c5d360",
   "metadata": {},
   "outputs": [],
   "source": [
    "plt.boxplot([y_test, y_pred], labels=['Actual', 'Predicted'])\n",
    "plt.ylabel('Sale Price')\n",
    "plt.title('Box Plot of Actual and Predicted Sale Prices')\n",
    "plt.show()"
   ]
  },
  {
   "cell_type": "markdown",
   "id": "90bd67e1",
   "metadata": {},
   "source": [
    "#### Residual Plot: \n",
    "\n",
    "Analyzing a residual plot helps us assess the performance of a regression model. We can determine whether the residuals exhibit any patterns or systematic deviations from the expected zero line. It helps us identify potential issues such as heteroscedasticity, non-linearity, or influential outliers in the model."
   ]
  },
  {
   "cell_type": "code",
   "execution_count": null,
   "id": "8b06a683",
   "metadata": {},
   "outputs": [],
   "source": [
    "residuals = y_test - y_pred\n",
    "plt.scatter(y_pred, residuals)\n",
    "plt.xlabel('Predicted Sale Prices')\n",
    "plt.ylabel('Residuals')\n",
    "plt.title('Residual Plot')\n",
    "plt.axhline(y=0, color='r', linestyle='--')\n",
    "plt.show()"
   ]
  },
  {
   "cell_type": "markdown",
   "id": "a032ece1",
   "metadata": {},
   "source": [
    "---\n",
    "\n",
    "## 2. Your turn\n",
    "\n",
    "Now it's your turn!\n",
    "\n",
    "The required packages are loaded an imported at the start of this document, so you're ready to get started. Your objective is to train a model on the following dataset of Ford cars: [Kaggle.com Ford Car Price Prediction](https://www.kaggle.com/datasets/adhurimquku/ford-car-price-prediction)"
   ]
  },
  {
   "cell_type": "markdown",
   "id": "c4afc6d7",
   "metadata": {},
   "source": [
    "### 1. Load and prepare the dataset\n",
    "\n",
    "Load and prepare the dataset by doing the following:\n",
    "\n",
    "- Load the data with `pd.readcsv(...)`\n",
    "- Use `df.info()` and `df.describe()` to explore the dataset.\n",
    "- Select relevant features like I did in my example above."
   ]
  },
  {
   "cell_type": "code",
   "execution_count": 11,
   "id": "e724af03",
   "metadata": {},
   "outputs": [
    {
     "name": "stdout",
     "output_type": "stream",
     "text": [
      "House Prices Dataset Info:\n",
      "<class 'pandas.core.frame.DataFrame'>\n",
      "RangeIndex: 1460 entries, 0 to 1459\n",
      "Data columns (total 81 columns):\n",
      " #   Column         Non-Null Count  Dtype  \n",
      "---  ------         --------------  -----  \n",
      " 0   Id             1460 non-null   int64  \n",
      " 1   MSSubClass     1460 non-null   int64  \n",
      " 2   MSZoning       1460 non-null   object \n",
      " 3   LotFrontage    1201 non-null   float64\n",
      " 4   LotArea        1460 non-null   int64  \n",
      " 5   Street         1460 non-null   object \n",
      " 6   Alley          91 non-null     object \n",
      " 7   LotShape       1460 non-null   object \n",
      " 8   LandContour    1460 non-null   object \n",
      " 9   Utilities      1460 non-null   object \n",
      " 10  LotConfig      1460 non-null   object \n",
      " 11  LandSlope      1460 non-null   object \n",
      " 12  Neighborhood   1460 non-null   object \n",
      " 13  Condition1     1460 non-null   object \n",
      " 14  Condition2     1460 non-null   object \n",
      " 15  BldgType       1460 non-null   object \n",
      " 16  HouseStyle     1460 non-null   object \n",
      " 17  OverallQual    1460 non-null   int64  \n",
      " 18  OverallCond    1460 non-null   int64  \n",
      " 19  YearBuilt      1460 non-null   int64  \n",
      " 20  YearRemodAdd   1460 non-null   int64  \n",
      " 21  RoofStyle      1460 non-null   object \n",
      " 22  RoofMatl       1460 non-null   object \n",
      " 23  Exterior1st    1460 non-null   object \n",
      " 24  Exterior2nd    1460 non-null   object \n",
      " 25  MasVnrType     588 non-null    object \n",
      " 26  MasVnrArea     1452 non-null   float64\n",
      " 27  ExterQual      1460 non-null   object \n",
      " 28  ExterCond      1460 non-null   object \n",
      " 29  Foundation     1460 non-null   object \n",
      " 30  BsmtQual       1423 non-null   object \n",
      " 31  BsmtCond       1423 non-null   object \n",
      " 32  BsmtExposure   1422 non-null   object \n",
      " 33  BsmtFinType1   1423 non-null   object \n",
      " 34  BsmtFinSF1     1460 non-null   int64  \n",
      " 35  BsmtFinType2   1422 non-null   object \n",
      " 36  BsmtFinSF2     1460 non-null   int64  \n",
      " 37  BsmtUnfSF      1460 non-null   int64  \n",
      " 38  TotalBsmtSF    1460 non-null   int64  \n",
      " 39  Heating        1460 non-null   object \n",
      " 40  HeatingQC      1460 non-null   object \n",
      " 41  CentralAir     1460 non-null   object \n",
      " 42  Electrical     1459 non-null   object \n",
      " 43  1stFlrSF       1460 non-null   int64  \n",
      " 44  2ndFlrSF       1460 non-null   int64  \n",
      " 45  LowQualFinSF   1460 non-null   int64  \n",
      " 46  GrLivArea      1460 non-null   int64  \n",
      " 47  BsmtFullBath   1460 non-null   int64  \n",
      " 48  BsmtHalfBath   1460 non-null   int64  \n",
      " 49  FullBath       1460 non-null   int64  \n",
      " 50  HalfBath       1460 non-null   int64  \n",
      " 51  BedroomAbvGr   1460 non-null   int64  \n",
      " 52  KitchenAbvGr   1460 non-null   int64  \n",
      " 53  KitchenQual    1460 non-null   object \n",
      " 54  TotRmsAbvGrd   1460 non-null   int64  \n",
      " 55  Functional     1460 non-null   object \n",
      " 56  Fireplaces     1460 non-null   int64  \n",
      " 57  FireplaceQu    770 non-null    object \n",
      " 58  GarageType     1379 non-null   object \n",
      " 59  GarageYrBlt    1379 non-null   float64\n",
      " 60  GarageFinish   1379 non-null   object \n",
      " 61  GarageCars     1460 non-null   int64  \n",
      " 62  GarageArea     1460 non-null   int64  \n",
      " 63  GarageQual     1379 non-null   object \n",
      " 64  GarageCond     1379 non-null   object \n",
      " 65  PavedDrive     1460 non-null   object \n",
      " 66  WoodDeckSF     1460 non-null   int64  \n",
      " 67  OpenPorchSF    1460 non-null   int64  \n",
      " 68  EnclosedPorch  1460 non-null   int64  \n",
      " 69  3SsnPorch      1460 non-null   int64  \n",
      " 70  ScreenPorch    1460 non-null   int64  \n",
      " 71  PoolArea       1460 non-null   int64  \n",
      " 72  PoolQC         7 non-null      object \n",
      " 73  Fence          281 non-null    object \n",
      " 74  MiscFeature    54 non-null     object \n",
      " 75  MiscVal        1460 non-null   int64  \n",
      " 76  MoSold         1460 non-null   int64  \n",
      " 77  YrSold         1460 non-null   int64  \n",
      " 78  SaleType       1460 non-null   object \n",
      " 79  SaleCondition  1460 non-null   object \n",
      " 80  SalePrice      1460 non-null   int64  \n",
      "dtypes: float64(3), int64(35), object(43)\n",
      "memory usage: 924.0+ KB\n",
      "\n",
      "House Prices Dataset Description:\n",
      "                Id   MSSubClass  LotFrontage        LotArea  OverallQual  \\\n",
      "count  1460.000000  1460.000000  1201.000000    1460.000000  1460.000000   \n",
      "mean    730.500000    56.897260    70.049958   10516.828082     6.099315   \n",
      "std     421.610009    42.300571    24.284752    9981.264932     1.382997   \n",
      "min       1.000000    20.000000    21.000000    1300.000000     1.000000   \n",
      "25%     365.750000    20.000000    59.000000    7553.500000     5.000000   \n",
      "50%     730.500000    50.000000    69.000000    9478.500000     6.000000   \n",
      "75%    1095.250000    70.000000    80.000000   11601.500000     7.000000   \n",
      "max    1460.000000   190.000000   313.000000  215245.000000    10.000000   \n",
      "\n",
      "       OverallCond    YearBuilt  YearRemodAdd   MasVnrArea   BsmtFinSF1  ...  \\\n",
      "count  1460.000000  1460.000000   1460.000000  1452.000000  1460.000000  ...   \n",
      "mean      5.575342  1971.267808   1984.865753   103.685262   443.639726  ...   \n",
      "std       1.112799    30.202904     20.645407   181.066207   456.098091  ...   \n",
      "min       1.000000  1872.000000   1950.000000     0.000000     0.000000  ...   \n",
      "25%       5.000000  1954.000000   1967.000000     0.000000     0.000000  ...   \n",
      "50%       5.000000  1973.000000   1994.000000     0.000000   383.500000  ...   \n",
      "75%       6.000000  2000.000000   2004.000000   166.000000   712.250000  ...   \n",
      "max       9.000000  2010.000000   2010.000000  1600.000000  5644.000000  ...   \n",
      "\n",
      "        WoodDeckSF  OpenPorchSF  EnclosedPorch    3SsnPorch  ScreenPorch  \\\n",
      "count  1460.000000  1460.000000    1460.000000  1460.000000  1460.000000   \n",
      "mean     94.244521    46.660274      21.954110     3.409589    15.060959   \n",
      "std     125.338794    66.256028      61.119149    29.317331    55.757415   \n",
      "min       0.000000     0.000000       0.000000     0.000000     0.000000   \n",
      "25%       0.000000     0.000000       0.000000     0.000000     0.000000   \n",
      "50%       0.000000    25.000000       0.000000     0.000000     0.000000   \n",
      "75%     168.000000    68.000000       0.000000     0.000000     0.000000   \n",
      "max     857.000000   547.000000     552.000000   508.000000   480.000000   \n",
      "\n",
      "          PoolArea       MiscVal       MoSold       YrSold      SalePrice  \n",
      "count  1460.000000   1460.000000  1460.000000  1460.000000    1460.000000  \n",
      "mean      2.758904     43.489041     6.321918  2007.815753  180921.195890  \n",
      "std      40.177307    496.123024     2.703626     1.328095   79442.502883  \n",
      "min       0.000000      0.000000     1.000000  2006.000000   34900.000000  \n",
      "25%       0.000000      0.000000     5.000000  2007.000000  129975.000000  \n",
      "50%       0.000000      0.000000     6.000000  2008.000000  163000.000000  \n",
      "75%       0.000000      0.000000     8.000000  2009.000000  214000.000000  \n",
      "max     738.000000  15500.000000    12.000000  2010.000000  755000.000000  \n",
      "\n",
      "[8 rows x 38 columns]\n",
      "\n",
      "House Prices Dataset Head:\n",
      "   Id  MSSubClass MSZoning  LotFrontage  LotArea Street Alley LotShape  \\\n",
      "0   1          60       RL         65.0     8450   Pave   NaN      Reg   \n",
      "1   2          20       RL         80.0     9600   Pave   NaN      Reg   \n",
      "2   3          60       RL         68.0    11250   Pave   NaN      IR1   \n",
      "3   4          70       RL         60.0     9550   Pave   NaN      IR1   \n",
      "4   5          60       RL         84.0    14260   Pave   NaN      IR1   \n",
      "\n",
      "  LandContour Utilities  ... PoolArea PoolQC Fence MiscFeature MiscVal MoSold  \\\n",
      "0         Lvl    AllPub  ...        0    NaN   NaN         NaN       0      2   \n",
      "1         Lvl    AllPub  ...        0    NaN   NaN         NaN       0      5   \n",
      "2         Lvl    AllPub  ...        0    NaN   NaN         NaN       0      9   \n",
      "3         Lvl    AllPub  ...        0    NaN   NaN         NaN       0      2   \n",
      "4         Lvl    AllPub  ...        0    NaN   NaN         NaN       0     12   \n",
      "\n",
      "  YrSold  SaleType  SaleCondition  SalePrice  \n",
      "0   2008        WD         Normal     208500  \n",
      "1   2007        WD         Normal     181500  \n",
      "2   2008        WD         Normal     223500  \n",
      "3   2006        WD        Abnorml     140000  \n",
      "4   2008        WD         Normal     250000  \n",
      "\n",
      "[5 rows x 81 columns]\n",
      "\n",
      "House Prices Model Evaluation:\n",
      "R^2 Score: 0.7550891375799818\n",
      "Mean Absolute Error: 27851.74840879451\n",
      "Root Mean Squared Error: 43342.198911050495\n",
      "\n",
      "Ford Dataset Info:\n",
      "<class 'pandas.core.frame.DataFrame'>\n",
      "RangeIndex: 17966 entries, 0 to 17965\n",
      "Data columns (total 9 columns):\n",
      " #   Column        Non-Null Count  Dtype  \n",
      "---  ------        --------------  -----  \n",
      " 0   model         17966 non-null  object \n",
      " 1   year          17966 non-null  int64  \n",
      " 2   price         17966 non-null  int64  \n",
      " 3   transmission  17966 non-null  object \n",
      " 4   mileage       17966 non-null  int64  \n",
      " 5   fuelType      17966 non-null  object \n",
      " 6   tax           17966 non-null  int64  \n",
      " 7   mpg           17966 non-null  float64\n",
      " 8   engineSize    17966 non-null  float64\n",
      "dtypes: float64(2), int64(4), object(3)\n",
      "memory usage: 1.2+ MB\n",
      "\n",
      "Ford Dataset Description:\n",
      "               year         price        mileage           tax           mpg  \\\n",
      "count  17966.000000  17966.000000   17966.000000  17966.000000  17966.000000   \n",
      "mean    2016.866470  12279.534844   23362.608761    113.329456     57.906980   \n",
      "std        2.050336   4741.343657   19472.054349     62.012456     10.125696   \n",
      "min     1996.000000    495.000000       1.000000      0.000000     20.800000   \n",
      "25%     2016.000000   8999.000000    9987.000000     30.000000     52.300000   \n",
      "50%     2017.000000  11291.000000   18242.500000    145.000000     58.900000   \n",
      "75%     2018.000000  15299.000000   31060.000000    145.000000     65.700000   \n",
      "max     2060.000000  54995.000000  177644.000000    580.000000    201.800000   \n",
      "\n",
      "         engineSize  \n",
      "count  17966.000000  \n",
      "mean       1.350807  \n",
      "std        0.432367  \n",
      "min        0.000000  \n",
      "25%        1.000000  \n",
      "50%        1.200000  \n",
      "75%        1.500000  \n",
      "max        5.000000  \n",
      "\n",
      "Ford Dataset Head:\n",
      "     model  year  price transmission  mileage fuelType  tax   mpg  engineSize\n",
      "0   Fiesta  2017  12000    Automatic    15944   Petrol  150  57.7         1.0\n",
      "1    Focus  2018  14000       Manual     9083   Petrol  150  57.7         1.0\n",
      "2    Focus  2017  13000       Manual    12456   Petrol  150  57.7         1.0\n",
      "3   Fiesta  2019  17500       Manual    10460   Petrol  145  40.3         1.5\n",
      "4   Fiesta  2019  16500    Automatic     1482   Petrol  145  48.7         1.0\n",
      "\n",
      "Ford Model Evaluation:\n",
      "R^2 Score: 0.7255175199713091\n",
      "Mean Absolute Error: 1802.0537797262018\n",
      "Root Mean Squared Error: 2480.265213165739\n"
     ]
    }
   ],
   "source": [
    "# Import necessary libraries\n",
    "import pandas as pd\n",
    "import numpy as np\n",
    "from sklearn.model_selection import train_test_split\n",
    "from sklearn.linear_model import LinearRegression\n",
    "from sklearn.metrics import r2_score, mean_absolute_error, mean_squared_error\n",
    "\n",
    "# Part 1: House Prices Dataset\n",
    "\n",
    "## Load the House Prices dataset\n",
    "house_df = pd.read_csv(r\"C:\\Users\\nayif\\py3b_nayef_omer\\week8\\A3_house_prices_train.csv\")\n",
    "\n",
    "# Explore the dataset\n",
    "print(\"House Prices Dataset Info:\")\n",
    "house_df.info()\n",
    "print(\"\\nHouse Prices Dataset Description:\")\n",
    "print(house_df.describe())\n",
    "print(\"\\nHouse Prices Dataset Head:\")\n",
    "print(house_df.head())\n",
    "\n",
    "# Handle missing values by filling with the mean for numeric columns only\n",
    "house_df.fillna(house_df.select_dtypes(include=np.number).mean(), inplace=True)\n",
    "\n",
    "# Select features and target for the House Prices dataset\n",
    "X_house = house_df[['GrLivArea', 'TotalBsmtSF', 'GarageCars', 'YearBuilt']]\n",
    "y_house = house_df['SalePrice']\n",
    "\n",
    "# Split the dataset into training and testing sets\n",
    "X_train_house, X_test_house, y_train_house, y_test_house = train_test_split(X_house, y_house, test_size=0.2, random_state=42)\n",
    "\n",
    "# Train a Linear Regression model on the House Prices data\n",
    "model_house = LinearRegression()\n",
    "model_house.fit(X_train_house, y_train_house)\n",
    "\n",
    "# Evaluate the model on the test set\n",
    "y_pred_house = model_house.predict(X_test_house)\n",
    "house_r2_score = r2_score(y_test_house, y_pred_house)\n",
    "house_mae = mean_absolute_error(y_test_house, y_pred_house)\n",
    "house_rmse = np.sqrt(mean_squared_error(y_test_house, y_pred_house))\n",
    "\n",
    "print(\"\\nHouse Prices Model Evaluation:\")\n",
    "print(\"R^2 Score:\", house_r2_score)\n",
    "print(\"Mean Absolute Error:\", house_mae)\n",
    "print(\"Root Mean Squared Error:\", house_rmse)\n",
    "\n",
    "# Part 2: Ford Dataset\n",
    "\n",
    "## Load the Ford dataset\n",
    "ford_df = pd.read_csv(r\"C:\\Users\\nayif\\py3b_nayef_omer\\week8\\A3_ford.csv\")\n",
    "\n",
    "# Explore the dataset\n",
    "print(\"\\nFord Dataset Info:\")\n",
    "ford_df.info()\n",
    "print(\"\\nFord Dataset Description:\")\n",
    "print(ford_df.describe())\n",
    "print(\"\\nFord Dataset Head:\")\n",
    "print(ford_df.head())\n",
    "\n",
    "# Handle missing values by filling with the mean for numeric columns only\n",
    "ford_df.fillna(ford_df.select_dtypes(include=np.number).mean(), inplace=True)\n",
    "\n",
    "# Select features and target for the Ford dataset\n",
    "X_ford = ford_df[['mileage', 'year', 'mpg', 'engineSize']]\n",
    "y_ford = ford_df['price']\n",
    "\n",
    "# Split the dataset into training and testing sets\n",
    "X_train_ford, X_test_ford, y_train_ford, y_test_ford = train_test_split(X_ford, y_ford, test_size=0.2, random_state=42)\n",
    "\n",
    "# Train a Linear Regression model on the Ford data\n",
    "model_ford = LinearRegression()\n",
    "model_ford.fit(X_train_ford, y_train_ford)\n",
    "\n",
    "# Evaluate the model on the test set\n",
    "y_pred_ford = model_ford.predict(X_test_ford)\n",
    "ford_r2_score = r2_score(y_test_ford, y_pred_ford)\n",
    "ford_mae = mean_absolute_error(y_test_ford, y_pred_ford)\n",
    "ford_rmse = np.sqrt(mean_squared_error(y_test_ford, y_pred_ford))\n",
    "\n",
    "print(\"\\nFord Model Evaluation:\")\n",
    "print(\"R^2 Score:\", ford_r2_score)\n",
    "print(\"Mean Absolute Error:\", ford_mae)\n",
    "print(\"Root Mean Squared Error:\", ford_rmse)\n"
   ]
  },
  {
   "cell_type": "markdown",
   "id": "ffb22689",
   "metadata": {},
   "source": [
    "### 2. Encode string data types\n",
    "\n",
    "Now you need to encode some of the data. In my example I used `OneHotEncoder` but you can use `LabelEncoder` instead since there are more columns to encode and more possible values per column. The columns you may want to encode are the columns with the datatype of `object` which you can see by using `df.info()`. THe column called `model` is one of them, but there's two more.\n",
    "\n",
    "To encode the `model` column/attribute you need to:\n",
    "\n",
    "- Initialize LabelEncoder using `LabelEncoder()` and save it to a variable (name it `encoder` for clarity).\n",
    "- Use `encoder.fit_transform(df['model'])` to encode the column. This returns an encoded column which you can save to a new column with any name you'd like. Like this: `df['model_encoded'] = encoder.fit_transform(df['model'])`\n",
    "- Drop the column you encoded from (`model`) by using `df.drop(...)`\n",
    "- Now do the same for the other two columns.\n",
    "\n",
    "When you think you're done, call `df.info()` and make sure all columns are number values such as `int32`, `int64`, or `float64`."
   ]
  },
  {
   "cell_type": "code",
   "execution_count": 13,
   "id": "476428a0",
   "metadata": {},
   "outputs": [
    {
     "name": "stdout",
     "output_type": "stream",
     "text": [
      "House Prices Dataset Info After Encoding:\n",
      "<class 'pandas.core.frame.DataFrame'>\n",
      "RangeIndex: 1460 entries, 0 to 1459\n",
      "Data columns (total 81 columns):\n",
      " #   Column                 Non-Null Count  Dtype  \n",
      "---  ------                 --------------  -----  \n",
      " 0   Id                     1460 non-null   int64  \n",
      " 1   MSSubClass             1460 non-null   int64  \n",
      " 2   LotFrontage            1201 non-null   float64\n",
      " 3   LotArea                1460 non-null   int64  \n",
      " 4   OverallQual            1460 non-null   int64  \n",
      " 5   OverallCond            1460 non-null   int64  \n",
      " 6   YearBuilt              1460 non-null   int64  \n",
      " 7   YearRemodAdd           1460 non-null   int64  \n",
      " 8   MasVnrArea             1452 non-null   float64\n",
      " 9   BsmtFinSF1             1460 non-null   int64  \n",
      " 10  BsmtFinSF2             1460 non-null   int64  \n",
      " 11  BsmtUnfSF              1460 non-null   int64  \n",
      " 12  TotalBsmtSF            1460 non-null   int64  \n",
      " 13  1stFlrSF               1460 non-null   int64  \n",
      " 14  2ndFlrSF               1460 non-null   int64  \n",
      " 15  LowQualFinSF           1460 non-null   int64  \n",
      " 16  GrLivArea              1460 non-null   int64  \n",
      " 17  BsmtFullBath           1460 non-null   int64  \n",
      " 18  BsmtHalfBath           1460 non-null   int64  \n",
      " 19  FullBath               1460 non-null   int64  \n",
      " 20  HalfBath               1460 non-null   int64  \n",
      " 21  BedroomAbvGr           1460 non-null   int64  \n",
      " 22  KitchenAbvGr           1460 non-null   int64  \n",
      " 23  TotRmsAbvGrd           1460 non-null   int64  \n",
      " 24  Fireplaces             1460 non-null   int64  \n",
      " 25  GarageYrBlt            1379 non-null   float64\n",
      " 26  GarageCars             1460 non-null   int64  \n",
      " 27  GarageArea             1460 non-null   int64  \n",
      " 28  WoodDeckSF             1460 non-null   int64  \n",
      " 29  OpenPorchSF            1460 non-null   int64  \n",
      " 30  EnclosedPorch          1460 non-null   int64  \n",
      " 31  3SsnPorch              1460 non-null   int64  \n",
      " 32  ScreenPorch            1460 non-null   int64  \n",
      " 33  PoolArea               1460 non-null   int64  \n",
      " 34  MiscVal                1460 non-null   int64  \n",
      " 35  MoSold                 1460 non-null   int64  \n",
      " 36  YrSold                 1460 non-null   int64  \n",
      " 37  SalePrice              1460 non-null   int64  \n",
      " 38  MSZoning_encoded       1460 non-null   int32  \n",
      " 39  Street_encoded         1460 non-null   int32  \n",
      " 40  Alley_encoded          1460 non-null   int32  \n",
      " 41  LotShape_encoded       1460 non-null   int32  \n",
      " 42  LandContour_encoded    1460 non-null   int32  \n",
      " 43  Utilities_encoded      1460 non-null   int32  \n",
      " 44  LotConfig_encoded      1460 non-null   int32  \n",
      " 45  LandSlope_encoded      1460 non-null   int32  \n",
      " 46  Neighborhood_encoded   1460 non-null   int32  \n",
      " 47  Condition1_encoded     1460 non-null   int32  \n",
      " 48  Condition2_encoded     1460 non-null   int32  \n",
      " 49  BldgType_encoded       1460 non-null   int32  \n",
      " 50  HouseStyle_encoded     1460 non-null   int32  \n",
      " 51  RoofStyle_encoded      1460 non-null   int32  \n",
      " 52  RoofMatl_encoded       1460 non-null   int32  \n",
      " 53  Exterior1st_encoded    1460 non-null   int32  \n",
      " 54  Exterior2nd_encoded    1460 non-null   int32  \n",
      " 55  MasVnrType_encoded     1460 non-null   int32  \n",
      " 56  ExterQual_encoded      1460 non-null   int32  \n",
      " 57  ExterCond_encoded      1460 non-null   int32  \n",
      " 58  Foundation_encoded     1460 non-null   int32  \n",
      " 59  BsmtQual_encoded       1460 non-null   int32  \n",
      " 60  BsmtCond_encoded       1460 non-null   int32  \n",
      " 61  BsmtExposure_encoded   1460 non-null   int32  \n",
      " 62  BsmtFinType1_encoded   1460 non-null   int32  \n",
      " 63  BsmtFinType2_encoded   1460 non-null   int32  \n",
      " 64  Heating_encoded        1460 non-null   int32  \n",
      " 65  HeatingQC_encoded      1460 non-null   int32  \n",
      " 66  CentralAir_encoded     1460 non-null   int32  \n",
      " 67  Electrical_encoded     1460 non-null   int32  \n",
      " 68  KitchenQual_encoded    1460 non-null   int32  \n",
      " 69  Functional_encoded     1460 non-null   int32  \n",
      " 70  FireplaceQu_encoded    1460 non-null   int32  \n",
      " 71  GarageType_encoded     1460 non-null   int32  \n",
      " 72  GarageFinish_encoded   1460 non-null   int32  \n",
      " 73  GarageQual_encoded     1460 non-null   int32  \n",
      " 74  GarageCond_encoded     1460 non-null   int32  \n",
      " 75  PavedDrive_encoded     1460 non-null   int32  \n",
      " 76  PoolQC_encoded         1460 non-null   int32  \n",
      " 77  Fence_encoded          1460 non-null   int32  \n",
      " 78  MiscFeature_encoded    1460 non-null   int32  \n",
      " 79  SaleType_encoded       1460 non-null   int32  \n",
      " 80  SaleCondition_encoded  1460 non-null   int32  \n",
      "dtypes: float64(3), int32(43), int64(35)\n",
      "memory usage: 678.8 KB\n",
      "\n",
      "House Prices Model Evaluation:\n",
      "R^2 Score: 0.7550891375799818\n",
      "Mean Absolute Error: 27851.74840879451\n",
      "Root Mean Squared Error: 43342.198911050495\n",
      "\n",
      "Ford Dataset Info After Encoding:\n",
      "<class 'pandas.core.frame.DataFrame'>\n",
      "RangeIndex: 17966 entries, 0 to 17965\n",
      "Data columns (total 9 columns):\n",
      " #   Column                Non-Null Count  Dtype  \n",
      "---  ------                --------------  -----  \n",
      " 0   year                  17966 non-null  int64  \n",
      " 1   price                 17966 non-null  int64  \n",
      " 2   mileage               17966 non-null  int64  \n",
      " 3   tax                   17966 non-null  int64  \n",
      " 4   mpg                   17966 non-null  float64\n",
      " 5   engineSize            17966 non-null  float64\n",
      " 6   model_encoded         17966 non-null  int32  \n",
      " 7   transmission_encoded  17966 non-null  int32  \n",
      " 8   fuelType_encoded      17966 non-null  int32  \n",
      "dtypes: float64(2), int32(3), int64(4)\n",
      "memory usage: 1.0 MB\n",
      "\n",
      "Ford Model Evaluation:\n",
      "R^2 Score: 0.7255175199713091\n",
      "Mean Absolute Error: 1802.0537797262018\n",
      "Root Mean Squared Error: 2480.265213165739\n"
     ]
    }
   ],
   "source": [
    "from sklearn.model_selection import train_test_split\n",
    "from sklearn.linear_model import LinearRegression\n",
    "from sklearn.metrics import r2_score, mean_absolute_error, mean_squared_error\n",
    "from sklearn.preprocessing import LabelEncoder\n",
    "import pandas as pd\n",
    "import numpy as np\n",
    "\n",
    "# Part 1: House Prices Dataset\n",
    "house_df = pd.read_csv(r\"C:\\Users\\nayif\\py3b_nayef_omer\\week8\\A3_house_prices_train.csv\")\n",
    "\n",
    "# Encode categorical columns\n",
    "categorical_cols_house = house_df.select_dtypes(include=['object']).columns\n",
    "for col in categorical_cols_house:\n",
    "    encoder = LabelEncoder()\n",
    "    house_df[col + '_encoded'] = encoder.fit_transform(house_df[col])\n",
    "    house_df.drop(col, axis=1, inplace=True)\n",
    "\n",
    "# Confirm all columns are now numerical\n",
    "print(\"House Prices Dataset Info After Encoding:\")\n",
    "house_df.info()\n",
    "\n",
    "# Handle missing values by filling with the mean for numeric columns only\n",
    "house_df.fillna(house_df.select_dtypes(include=np.number).mean(), inplace=True)\n",
    "\n",
    "# Select features and target\n",
    "X_house = house_df[['GrLivArea', 'TotalBsmtSF', 'GarageCars', 'YearBuilt']]\n",
    "y_house = house_df['SalePrice']\n",
    "\n",
    "# Split data\n",
    "X_train_house, X_test_house, y_train_house, y_test_house = train_test_split(X_house, y_house, test_size=0.2, random_state=42)\n",
    "\n",
    "# Train and evaluate model\n",
    "model_house = LinearRegression()\n",
    "model_house.fit(X_train_house, y_train_house)\n",
    "y_pred_house = model_house.predict(X_test_house)\n",
    "\n",
    "# Metrics\n",
    "house_r2_score = r2_score(y_test_house, y_pred_house)\n",
    "house_mae = mean_absolute_error(y_test_house, y_pred_house)\n",
    "house_rmse = np.sqrt(mean_squared_error(y_test_house, y_pred_house))\n",
    "\n",
    "print(\"\\nHouse Prices Model Evaluation:\")\n",
    "print(\"R^2 Score:\", house_r2_score)\n",
    "print(\"Mean Absolute Error:\", house_mae)\n",
    "print(\"Root Mean Squared Error:\", house_rmse)\n",
    "\n",
    "# Part 2: Ford Dataset\n",
    "ford_df = pd.read_csv(r\"C:\\Users\\nayif\\py3b_nayef_omer\\week8\\A3_ford.csv\")\n",
    "\n",
    "# Encode categorical columns\n",
    "categorical_cols_ford = ford_df.select_dtypes(include=['object']).columns\n",
    "for col in categorical_cols_ford:\n",
    "    encoder = LabelEncoder()\n",
    "    ford_df[col + '_encoded'] = encoder.fit_transform(ford_df[col])\n",
    "    ford_df.drop(col, axis=1, inplace=True)\n",
    "\n",
    "# Confirm all columns are now numerical\n",
    "print(\"\\nFord Dataset Info After Encoding:\")\n",
    "ford_df.info()\n",
    "\n",
    "# Handle missing values by filling with the mean for numeric columns only\n",
    "ford_df.fillna(ford_df.select_dtypes(include=np.number).mean(), inplace=True)\n",
    "\n",
    "# Select features and target\n",
    "X_ford = ford_df[['mileage', 'year', 'mpg', 'engineSize']]\n",
    "y_ford = ford_df['price']\n",
    "\n",
    "# Split data\n",
    "X_train_ford, X_test_ford, y_train_ford, y_test_ford = train_test_split(X_ford, y_ford, test_size=0.2, random_state=42)\n",
    "\n",
    "# Train and evaluate model\n",
    "model_ford = LinearRegression()\n",
    "model_ford.fit(X_train_ford, y_train_ford)\n",
    "y_pred_ford = model_ford.predict(X_test_ford)\n",
    "\n",
    "# Metrics\n",
    "ford_r2_score = r2_score(y_test_ford, y_pred_ford)\n",
    "ford_mae = mean_absolute_error(y_test_ford, y_pred_ford)\n",
    "ford_rmse = np.sqrt(mean_squared_error(y_test_ford, y_pred_ford))\n",
    "\n",
    "print(\"\\nFord Model Evaluation:\")\n",
    "print(\"R^2 Score:\", ford_r2_score)\n",
    "print(\"Mean Absolute Error:\", ford_mae)\n",
    "print(\"Root Mean Squared Error:\", ford_rmse)\n"
   ]
  },
  {
   "cell_type": "markdown",
   "id": "9e5dd7a6",
   "metadata": {},
   "source": [
    "### 3. Split data into training and testing sets\n",
    "\n",
    "Do just as I did in my example above to split the dataset into features (`X`) and target variable (`y`) and then use `train_test_split(...)` to create training and testing sets."
   ]
  },
  {
   "cell_type": "code",
   "execution_count": 15,
   "id": "ed4e51ab",
   "metadata": {},
   "outputs": [
    {
     "name": "stdout",
     "output_type": "stream",
     "text": [
      "House Prices Training and Testing Set Shapes:\n",
      "X_train_house: (1168, 80)\n",
      "X_test_house: (292, 80)\n",
      "y_train_house: (1168,)\n",
      "y_test_house: (292,)\n",
      "\n",
      "Ford Training and Testing Set Shapes:\n",
      "X_train_ford: (14372, 8)\n",
      "X_test_ford: (3594, 8)\n",
      "y_train_ford: (14372,)\n",
      "y_test_ford: (3594,)\n"
     ]
    }
   ],
   "source": [
    "from sklearn.model_selection import train_test_split\n",
    "\n",
    "# Part 1: House Prices Dataset\n",
    "# Define features and target\n",
    "X_house = house_df.drop(columns=['SalePrice'])  # Features (all except target)\n",
    "y_house = house_df['SalePrice']  # Target\n",
    "\n",
    "# Split into training and testing sets for House Prices dataset\n",
    "X_train_house, X_test_house, y_train_house, y_test_house = train_test_split(X_house, y_house, test_size=0.2, random_state=42)\n",
    "\n",
    "print(\"House Prices Training and Testing Set Shapes:\")\n",
    "print(\"X_train_house:\", X_train_house.shape)\n",
    "print(\"X_test_house:\", X_test_house.shape)\n",
    "print(\"y_train_house:\", y_train_house.shape)\n",
    "print(\"y_test_house:\", y_test_house.shape)\n",
    "\n",
    "# Part 2: Ford Dataset\n",
    "# Define features and target\n",
    "X_ford = ford_df.drop(columns=['price'])  # Features (all except target)\n",
    "y_ford = ford_df['price']  # Target\n",
    "\n",
    "# Split into training and testing sets for Ford dataset\n",
    "X_train_ford, X_test_ford, y_train_ford, y_test_ford = train_test_split(X_ford, y_ford, test_size=0.2, random_state=42)\n",
    "\n",
    "print(\"\\nFord Training and Testing Set Shapes:\")\n",
    "print(\"X_train_ford:\", X_train_ford.shape)\n",
    "print(\"X_test_ford:\", X_test_ford.shape)\n",
    "print(\"y_train_ford:\", y_train_ford.shape)\n",
    "print(\"y_test_ford:\", y_test_ford.shape)\n"
   ]
  },
  {
   "cell_type": "markdown",
   "id": "9517fceb",
   "metadata": {},
   "source": [
    "### 4. Create an instance of the LinearRegression class and fit the model to the training data\n",
    "\n",
    "After splitting the dataset, instantiate an instance of the LinearRegression class, which represents the linear regression model.\n",
    "\n",
    "Then fit the model to the training data using the `fit` method. This step trains the model by finding the best-fitting line that minimizes the difference between the predicted values and the actual target values."
   ]
  },
  {
   "cell_type": "code",
   "execution_count": 17,
   "id": "9cdca406",
   "metadata": {},
   "outputs": [
    {
     "name": "stdout",
     "output_type": "stream",
     "text": [
      "House Prices model trained successfully.\n",
      "Ford model trained successfully.\n"
     ]
    }
   ],
   "source": [
    "from sklearn.linear_model import LinearRegression\n",
    "\n",
    "# Part 1: House Prices Dataset\n",
    "# Create and train the Linear Regression model for the House Prices dataset\n",
    "house_model = LinearRegression()\n",
    "house_model.fit(X_train_house, y_train_house)\n",
    "\n",
    "print(\"House Prices model trained successfully.\")\n",
    "\n",
    "# Part 2: Ford Dataset\n",
    "# Create and train the Linear Regression model for the Ford dataset\n",
    "ford_model = LinearRegression()\n",
    "ford_model.fit(X_train_ford, y_train_ford)\n",
    "\n",
    "print(\"Ford model trained successfully.\")\n"
   ]
  },
  {
   "cell_type": "markdown",
   "id": "cfaa5c96",
   "metadata": {},
   "source": [
    "### 5. Make predictions on the testing set\n",
    "\n",
    "Now that the model is trained, you can make predictions on the testing set using the `predict` method. This step lets you obtain the predicted values for the target variable based on the features in the testing set.\n",
    "\n",
    "Print the shape of your predictions to ensure that everything is OK. By calling `print(y_pred.shape)` you should get the result `(3594,)`. This shows you that the predictions is a one dimensional array of 3549 values, which looks right if you split your dataset test data to 20% by setting `test_size=0.2` in the previous step. \n",
    "\n",
    "> **Explanation**: The dataset consist of 17966 rows and by setting `test_size` to 0.2 you split the test data to 20% of all rows, which is about 3593 (`17966 x 0.2 = 3 593.2`). If you get a few more or less it's still OK since `train_test_split` will give you a random selection of rows and the exact number may differ because of it."
   ]
  },
  {
   "cell_type": "code",
   "execution_count": 19,
   "id": "54a95c89",
   "metadata": {},
   "outputs": [
    {
     "name": "stdout",
     "output_type": "stream",
     "text": [
      "House Prices Predictions Shape: (292,)\n",
      "Ford Predictions Shape: (3594,)\n"
     ]
    }
   ],
   "source": [
    "# Part 1: House Prices Dataset\n",
    "# Make predictions on the test set for the House Prices dataset\n",
    "y_pred_house = house_model.predict(X_test_house)\n",
    "\n",
    "# Print the shape of the predictions to ensure it matches the expected output\n",
    "print(\"House Prices Predictions Shape:\", y_pred_house.shape)\n",
    "\n",
    "# Part 2: Ford Dataset\n",
    "# Make predictions on the test set for the Ford dataset\n",
    "y_pred_ford = ford_model.predict(X_test_ford)\n",
    "\n",
    "# Print the shape of the predictions to ensure it matches the expected output\n",
    "print(\"Ford Predictions Shape:\", y_pred_ford.shape)\n"
   ]
  },
  {
   "cell_type": "markdown",
   "id": "bcc87cd2",
   "metadata": {},
   "source": [
    "### 6. Evaluate the performance of the model using MAE, MSE, and RMSE\n",
    "\n",
    "- Use `mean_absolute_error(...)` to calculate the Mean Absolute Error (MAE)\n",
    "- Use `mean_squared_error(...)` to calculate the Mean Squared Error (MSE)\n",
    "- Use `sqrt(...)` to calculate the Root Mean Squared Error (RMSE)\n",
    "\n",
    "Print the results when you're done. Compare the results to the mean price and standard deviation of the full dataset (you get these by calling `df['price'].describe()`. Can you draw any conclusions from your results? Is your model good at predicting the prices?"
   ]
  },
  {
   "cell_type": "code",
   "execution_count": 21,
   "id": "43a6e944",
   "metadata": {},
   "outputs": [
    {
     "name": "stdout",
     "output_type": "stream",
     "text": [
      "House Prices Model Evaluation:\n",
      "MAE: 21591.74\n",
      "MSE: 1196110750.11\n",
      "RMSE: 34584.83\n",
      "\n",
      "Ford Model Evaluation:\n",
      "MAE: 1776.83\n",
      "MSE: 5903593.74\n",
      "RMSE: 2429.73\n",
      "\n",
      "House Prices Statistics:\n",
      "count      1460.000000\n",
      "mean     180921.195890\n",
      "std       79442.502883\n",
      "min       34900.000000\n",
      "25%      129975.000000\n",
      "50%      163000.000000\n",
      "75%      214000.000000\n",
      "max      755000.000000\n",
      "Name: SalePrice, dtype: float64\n",
      "\n",
      "Comparison with House Price Statistics:\n",
      "MAE is 21591.74 compared to mean price 180921.20\n",
      "RMSE is 34584.83 compared to standard deviation 79442.50\n"
     ]
    }
   ],
   "source": [
    "from sklearn.metrics import mean_absolute_error, mean_squared_error\n",
    "import numpy as np\n",
    "\n",
    "# Part 1: Evaluate House Prices Model\n",
    "mae_house = mean_absolute_error(y_test_house, y_pred_house)\n",
    "mse_house = mean_squared_error(y_test_house, y_pred_house)\n",
    "rmse_house = np.sqrt(mse_house)\n",
    "\n",
    "# Print the evaluation metrics for the House Prices dataset\n",
    "print(\"House Prices Model Evaluation:\")\n",
    "print(f\"MAE: {mae_house:.2f}\")\n",
    "print(f\"MSE: {mse_house:.2f}\")\n",
    "print(f\"RMSE: {rmse_house:.2f}\")\n",
    "\n",
    "# Part 2: Evaluate Ford Model\n",
    "mae_ford = mean_absolute_error(y_test_ford, y_pred_ford)\n",
    "mse_ford = mean_squared_error(y_test_ford, y_pred_ford)\n",
    "rmse_ford = np.sqrt(mse_ford)\n",
    "\n",
    "# Print the evaluation metrics for the Ford dataset\n",
    "print(\"\\nFord Model Evaluation:\")\n",
    "print(f\"MAE: {mae_ford:.2f}\")\n",
    "print(f\"MSE: {mse_ford:.2f}\")\n",
    "print(f\"RMSE: {rmse_ford:.2f}\")\n",
    "\n",
    "# Get the mean and standard deviation for the price column in the full dataset\n",
    "house_price_stats = house_df['SalePrice'].describe()\n",
    "print(\"\\nHouse Prices Statistics:\")\n",
    "print(house_price_stats)\n",
    "\n",
    "# Comparison\n",
    "print(\"\\nComparison with House Price Statistics:\")\n",
    "print(f\"MAE is {mae_house:.2f} compared to mean price {house_price_stats['mean']:.2f}\")\n",
    "print(f\"RMSE is {rmse_house:.2f} compared to standard deviation {house_price_stats['std']:.2f}\")\n"
   ]
  },
  {
   "cell_type": "markdown",
   "id": "19ab5a08",
   "metadata": {},
   "source": [
    "### 7. Visualize the results\n",
    "\n",
    "Follow my examples above to visualize the data using the following plot types:\n",
    "\n",
    "#### Scatter Plot"
   ]
  },
  {
   "cell_type": "code",
   "execution_count": 65,
   "id": "14579fd7",
   "metadata": {},
   "outputs": [
    {
     "name": "stdout",
     "output_type": "stream",
     "text": [
      "Current working directory: C:\\Users\\nayif\\py3b_nayef_omer\\week8\n",
      "Error: The file C:\\Users\\nayif\\Documents\\data\\my_dataset.csv does not exist.\n",
      "Training R-squared: 0.86\n",
      "Testing R-squared: 0.84\n"
     ]
    },
    {
     "data": {
      "image/png": "[encoded data removed]",
      "text/plain": [
       "<Figure size 1000x600 with 1 Axes>"
      ]
     },
     "metadata": {},
     "output_type": "display_data"
    }
   ],
   "source": [
    "import os\n",
    "import pandas as pd\n",
    "import seaborn as sns\n",
    "import matplotlib.pyplot as plt\n",
    "from sklearn.model_selection import train_test_split\n",
    "from sklearn.linear_model import LinearRegression\n",
    "from sklearn.preprocessing import LabelEncoder\n",
    "\n",
    "# Step 1: Check the current working directory\n",
    "print(\"Current working directory:\", os.getcwd())\n",
    "\n",
    "# Step 2: Load the dataset (ensure correct file path using raw string literal)\n",
    "file_path = r\"C:\\Users\\nayif\\Documents\\data\\my_dataset.csv\"\n",
    "\n",
    "# Verify if the file exists at the specified path\n",
    "if os.path.exists(file_path):\n",
    "    df = pd.read_csv(file_path)\n",
    "    print(\"Dataset loaded successfully.\")\n",
    "else:\n",
    "    print(f\"Error: The file {file_path} does not exist.\")\n",
    "\n",
    "# Step 3: Handle missing values (fill with the mean of the column for simplicity)\n",
    "df.fillna(df.mean(), inplace=True)\n",
    "\n",
    "# Step 4: Separate features and target variable\n",
    "X = df.drop(columns=['SalePrice'])  # Replace 'SalePrice' with your target column name\n",
    "y = df['SalePrice']\n",
    "\n",
    "# Step 5: Encode categorical variables (if necessary)\n",
    "categorical_columns = X.select_dtypes(include=['object']).columns\n",
    "le = LabelEncoder()\n",
    "\n",
    "for col in categorical_columns:\n",
    "    X[col] = le.fit_transform(X[col].astype(str))\n",
    "\n",
    "# Step 6: Split the data into training and testing sets\n",
    "X_train, X_test, y_train, y_test = train_test_split(X, y, test_size=0.2, random_state=42)\n",
    "\n",
    "# Step 7: Train a Linear Regression model\n",
    "model = LinearRegression()\n",
    "model.fit(X_train, y_train)\n",
    "\n",
    "# Step 8: Make predictions on the test data\n",
    "y_pred = model.predict(X_test)\n",
    "\n",
    "# Step 9: Evaluate the model (for example, using R-squared)\n",
    "print(f\"Training R-squared: {model.score(X_train, y_train):.2f}\")\n",
    "print(f\"Testing R-squared: {model.score(X_test, y_test):.2f}\")\n",
    "\n",
    "# Step 10: Visualize the actual vs predicted values using Seaborn\n",
    "plt.figure(figsize=(10,6))\n",
    "sns.scatterplot(x=y_test, y=y_pred, color='blue', alpha=0.6)\n",
    "plt.plot([y_test.min(), y_test.max()], [y_test.min(), y_test.max()], color='red', linestyle='--')  # 45-degree line\n",
    "plt.xlabel(\"Actual SalePrice\")\n",
    "plt.ylabel(\"Predicted SalePrice\")\n",
    "plt.title(\"Actual vs Predicted SalePrice\")\n",
    "plt.show()\n"
   ]
  },
  {
   "cell_type": "markdown",
   "id": "9f9a9f45",
   "metadata": {},
   "source": [
    "#### Histogram Plot"
   ]
  },
  {
   "cell_type": "code",
   "execution_count": 67,
   "id": "6e4e5b95",
   "metadata": {},
   "outputs": [
    {
     "data": {
      "image/png": "[encoded data removed]",
      "text/plain": [
       "<Figure size 1000x600 with 1 Axes>"
      ]
     },
     "metadata": {},
     "output_type": "display_data"
    }
   ],
   "source": [
    "import seaborn as sns\n",
    "\n",
    "# Calculate residuals\n",
    "residuals = y_test - y_pred\n",
    "\n",
    "# Histogram Plot: Residuals Distribution\n",
    "plt.figure(figsize=(10, 6))\n",
    "sns.histplot(residuals, kde=True, color='red', bins=30)\n",
    "plt.title(\"Histogram of Residuals for House Prices\")\n",
    "plt.xlabel(\"Residuals (Actual - Predicted)\")\n",
    "plt.ylabel(\"Frequency\")\n",
    "plt.grid(True)\n",
    "plt.show()\n"
   ]
  },
  {
   "cell_type": "markdown",
   "id": "efce61b2",
   "metadata": {},
   "source": [
    "#### Box Plot"
   ]
  },
  {
   "cell_type": "code",
   "execution_count": 69,
   "id": "cfbe0409",
   "metadata": {},
   "outputs": [
    {
     "data": {
      "image/png": "[encoded data removed]",
      "text/plain": [
       "<Figure size 1000x600 with 1 Axes>"
      ]
     },
     "metadata": {},
     "output_type": "display_data"
    }
   ],
   "source": [
    "# Box Plot: Actual vs Predicted Values\n",
    "plt.figure(figsize=(10, 6))\n",
    "sns.boxplot(data=[y_test, y_pred], palette='Set2')\n",
    "plt.title(\"Box Plot: Actual vs Predicted House Prices\")\n",
    "plt.xticks([0, 1], ['Actual', 'Predicted'])\n",
    "plt.ylabel(\"Price\")\n",
    "plt.show()\n"
   ]
  },
  {
   "cell_type": "markdown",
   "id": "2b008b86",
   "metadata": {},
   "source": [
    "#### Residual plot"
   ]
  },
  {
   "cell_type": "code",
   "execution_count": 75,
   "id": "acb5c8fc",
   "metadata": {},
   "outputs": [
    {
     "data": {
      "image/png": "[encoded data removed]",
      "text/plain": [
       "<Figure size 1000x600 with 1 Axes>"
      ]
     },
     "metadata": {},
     "output_type": "display_data"
    }
   ],
   "source": [
    "# Residual Plot without lowess\n",
    "plt.figure(figsize=(10, 6))\n",
    "sns.residplot(x=y_pred, y=residuals, lowess=False, color='purple')\n",
    "plt.title(\"Residual Plot\")\n",
    "plt.xlabel(\"Predicted House Prices\")\n",
    "plt.ylabel(\"Residuals\")\n",
    "plt.show()\n"
   ]
  },
  {
   "cell_type": "markdown",
   "id": "49540271",
   "metadata": {},
   "source": [
    "## Complete!\n",
    "\n",
    "Submit your work by pushing the changes to Github, inviting the teacher/s to your repository and submitting this link on ItsLearning under Assignment 3."
   ]
  }
 ],
 "metadata": {
  "kernelspec": {
   "display_name": "Python (myenv)",
   "language": "python",
   "name": "myenv"
  },
  "language_info": {
   "codemirror_mode": {
    "name": "ipython",
    "version": 3
   },
   "file_extension": ".py",
   "mimetype": "text/x-python",
   "name": "python",
   "nbconvert_exporter": "python",
   "pygments_lexer": "ipython3",
   "version": "3.12.7"
  }
 },
 "nbformat": 4,
 "nbformat_minor": 5
}
